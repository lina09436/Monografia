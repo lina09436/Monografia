{
  "nbformat": 4,
  "nbformat_minor": 0,
  "metadata": {
    "colab": {
      "provenance": []
    },
    "kernelspec": {
      "name": "python3",
      "display_name": "Python 3"
    },
    "language_info": {
      "name": "python"
    }
  },
  "cells": [
    {
      "cell_type": "code",
      "execution_count": 1,
      "metadata": {
        "id": "7r_anHnzGyJ8"
      },
      "outputs": [],
      "source": [
        "import numpy as np\n",
        "import matplotlib.pyplot as plt\n",
        "import pandas as pd\n",
        "from sklearn.preprocessing import MinMaxScaler"
      ]
    },
    {
      "cell_type": "code",
      "source": [
        "df = pd.read_excel('/content/Obidos.xlsx')"
      ],
      "metadata": {
        "id": "UQD6WnB2G225"
      },
      "execution_count": 2,
      "outputs": []
    },
    {
      "cell_type": "code",
      "source": [
        "df.info()"
      ],
      "metadata": {
        "colab": {
          "base_uri": "https://localhost:8080/"
        },
        "id": "E1vKQ650HC4A",
        "outputId": "983145d5-274f-4b0d-cd6c-d97c977d1a38"
      },
      "execution_count": 3,
      "outputs": [
        {
          "output_type": "stream",
          "name": "stdout",
          "text": [
            "<class 'pandas.core.frame.DataFrame'>\n",
            "RangeIndex: 18879 entries, 0 to 18878\n",
            "Data columns (total 5 columns):\n",
            " #   Column         Non-Null Count  Dtype         \n",
            "---  ------         --------------  -----         \n",
            " 0   id_station     18879 non-null  int64         \n",
            " 1   nom            18879 non-null  object        \n",
            " 2   date           18879 non-null  datetime64[ns]\n",
            " 3   valeur (m3/s)  18878 non-null  float64       \n",
            " 4   origine        18878 non-null  object        \n",
            "dtypes: datetime64[ns](1), float64(1), int64(1), object(2)\n",
            "memory usage: 737.6+ KB\n"
          ]
        }
      ]
    },
    {
      "cell_type": "code",
      "source": [
        "df = df[['date', 'valeur (m3/s)']]\n",
        "df = df.set_index('date')\n",
        "df.sort_index(inplace=True)"
      ],
      "metadata": {
        "id": "BmWfeNAGHEaU"
      },
      "execution_count": 4,
      "outputs": []
    },
    {
      "cell_type": "code",
      "source": [
        "df"
      ],
      "metadata": {
        "colab": {
          "base_uri": "https://localhost:8080/",
          "height": 455
        },
        "id": "PkhNoKwcJT5n",
        "outputId": "779e8738-4ef6-405e-b246-f6050516e443"
      },
      "execution_count": 5,
      "outputs": [
        {
          "output_type": "execute_result",
          "data": {
            "text/plain": [
              "                     valeur (m3/s)\n",
              "date                              \n",
              "1968-02-23 12:00:00       141400.0\n",
              "1968-02-24 12:00:00       141800.0\n",
              "1968-02-25 12:00:00       142700.0\n",
              "1968-02-26 12:00:00       144300.0\n",
              "1968-02-27 12:00:00       145000.0\n",
              "...                            ...\n",
              "2019-12-11 12:00:00       136400.0\n",
              "2019-12-12 12:00:00       137100.0\n",
              "2019-12-13 12:00:00       137700.0\n",
              "2019-12-14 12:00:00       137800.0\n",
              "2019-12-15 12:00:00       138700.0\n",
              "\n",
              "[18879 rows x 1 columns]"
            ],
            "text/html": [
              "\n",
              "  <div id=\"df-8266012c-7841-4e7c-9060-ad764d46732f\">\n",
              "    <div class=\"colab-df-container\">\n",
              "      <div>\n",
              "<style scoped>\n",
              "    .dataframe tbody tr th:only-of-type {\n",
              "        vertical-align: middle;\n",
              "    }\n",
              "\n",
              "    .dataframe tbody tr th {\n",
              "        vertical-align: top;\n",
              "    }\n",
              "\n",
              "    .dataframe thead th {\n",
              "        text-align: right;\n",
              "    }\n",
              "</style>\n",
              "<table border=\"1\" class=\"dataframe\">\n",
              "  <thead>\n",
              "    <tr style=\"text-align: right;\">\n",
              "      <th></th>\n",
              "      <th>valeur (m3/s)</th>\n",
              "    </tr>\n",
              "    <tr>\n",
              "      <th>date</th>\n",
              "      <th></th>\n",
              "    </tr>\n",
              "  </thead>\n",
              "  <tbody>\n",
              "    <tr>\n",
              "      <th>1968-02-23 12:00:00</th>\n",
              "      <td>141400.0</td>\n",
              "    </tr>\n",
              "    <tr>\n",
              "      <th>1968-02-24 12:00:00</th>\n",
              "      <td>141800.0</td>\n",
              "    </tr>\n",
              "    <tr>\n",
              "      <th>1968-02-25 12:00:00</th>\n",
              "      <td>142700.0</td>\n",
              "    </tr>\n",
              "    <tr>\n",
              "      <th>1968-02-26 12:00:00</th>\n",
              "      <td>144300.0</td>\n",
              "    </tr>\n",
              "    <tr>\n",
              "      <th>1968-02-27 12:00:00</th>\n",
              "      <td>145000.0</td>\n",
              "    </tr>\n",
              "    <tr>\n",
              "      <th>...</th>\n",
              "      <td>...</td>\n",
              "    </tr>\n",
              "    <tr>\n",
              "      <th>2019-12-11 12:00:00</th>\n",
              "      <td>136400.0</td>\n",
              "    </tr>\n",
              "    <tr>\n",
              "      <th>2019-12-12 12:00:00</th>\n",
              "      <td>137100.0</td>\n",
              "    </tr>\n",
              "    <tr>\n",
              "      <th>2019-12-13 12:00:00</th>\n",
              "      <td>137700.0</td>\n",
              "    </tr>\n",
              "    <tr>\n",
              "      <th>2019-12-14 12:00:00</th>\n",
              "      <td>137800.0</td>\n",
              "    </tr>\n",
              "    <tr>\n",
              "      <th>2019-12-15 12:00:00</th>\n",
              "      <td>138700.0</td>\n",
              "    </tr>\n",
              "  </tbody>\n",
              "</table>\n",
              "<p>18879 rows × 1 columns</p>\n",
              "</div>\n",
              "      <button class=\"colab-df-convert\" onclick=\"convertToInteractive('df-8266012c-7841-4e7c-9060-ad764d46732f')\"\n",
              "              title=\"Convert this dataframe to an interactive table.\"\n",
              "              style=\"display:none;\">\n",
              "        \n",
              "  <svg xmlns=\"http://www.w3.org/2000/svg\" height=\"24px\"viewBox=\"0 0 24 24\"\n",
              "       width=\"24px\">\n",
              "    <path d=\"M0 0h24v24H0V0z\" fill=\"none\"/>\n",
              "    <path d=\"M18.56 5.44l.94 2.06.94-2.06 2.06-.94-2.06-.94-.94-2.06-.94 2.06-2.06.94zm-11 1L8.5 8.5l.94-2.06 2.06-.94-2.06-.94L8.5 2.5l-.94 2.06-2.06.94zm10 10l.94 2.06.94-2.06 2.06-.94-2.06-.94-.94-2.06-.94 2.06-2.06.94z\"/><path d=\"M17.41 7.96l-1.37-1.37c-.4-.4-.92-.59-1.43-.59-.52 0-1.04.2-1.43.59L10.3 9.45l-7.72 7.72c-.78.78-.78 2.05 0 2.83L4 21.41c.39.39.9.59 1.41.59.51 0 1.02-.2 1.41-.59l7.78-7.78 2.81-2.81c.8-.78.8-2.07 0-2.86zM5.41 20L4 18.59l7.72-7.72 1.47 1.35L5.41 20z\"/>\n",
              "  </svg>\n",
              "      </button>\n",
              "      \n",
              "  <style>\n",
              "    .colab-df-container {\n",
              "      display:flex;\n",
              "      flex-wrap:wrap;\n",
              "      gap: 12px;\n",
              "    }\n",
              "\n",
              "    .colab-df-convert {\n",
              "      background-color: #E8F0FE;\n",
              "      border: none;\n",
              "      border-radius: 50%;\n",
              "      cursor: pointer;\n",
              "      display: none;\n",
              "      fill: #1967D2;\n",
              "      height: 32px;\n",
              "      padding: 0 0 0 0;\n",
              "      width: 32px;\n",
              "    }\n",
              "\n",
              "    .colab-df-convert:hover {\n",
              "      background-color: #E2EBFA;\n",
              "      box-shadow: 0px 1px 2px rgba(60, 64, 67, 0.3), 0px 1px 3px 1px rgba(60, 64, 67, 0.15);\n",
              "      fill: #174EA6;\n",
              "    }\n",
              "\n",
              "    [theme=dark] .colab-df-convert {\n",
              "      background-color: #3B4455;\n",
              "      fill: #D2E3FC;\n",
              "    }\n",
              "\n",
              "    [theme=dark] .colab-df-convert:hover {\n",
              "      background-color: #434B5C;\n",
              "      box-shadow: 0px 1px 3px 1px rgba(0, 0, 0, 0.15);\n",
              "      filter: drop-shadow(0px 1px 2px rgba(0, 0, 0, 0.3));\n",
              "      fill: #FFFFFF;\n",
              "    }\n",
              "  </style>\n",
              "\n",
              "      <script>\n",
              "        const buttonEl =\n",
              "          document.querySelector('#df-8266012c-7841-4e7c-9060-ad764d46732f button.colab-df-convert');\n",
              "        buttonEl.style.display =\n",
              "          google.colab.kernel.accessAllowed ? 'block' : 'none';\n",
              "\n",
              "        async function convertToInteractive(key) {\n",
              "          const element = document.querySelector('#df-8266012c-7841-4e7c-9060-ad764d46732f');\n",
              "          const dataTable =\n",
              "            await google.colab.kernel.invokeFunction('convertToInteractive',\n",
              "                                                     [key], {});\n",
              "          if (!dataTable) return;\n",
              "\n",
              "          const docLinkHtml = 'Like what you see? Visit the ' +\n",
              "            '<a target=\"_blank\" href=https://colab.research.google.com/notebooks/data_table.ipynb>data table notebook</a>'\n",
              "            + ' to learn more about interactive tables.';\n",
              "          element.innerHTML = '';\n",
              "          dataTable['output_type'] = 'display_data';\n",
              "          await google.colab.output.renderOutput(dataTable, element);\n",
              "          const docLink = document.createElement('div');\n",
              "          docLink.innerHTML = docLinkHtml;\n",
              "          element.appendChild(docLink);\n",
              "        }\n",
              "      </script>\n",
              "    </div>\n",
              "  </div>\n",
              "  "
            ]
          },
          "metadata": {},
          "execution_count": 5
        }
      ]
    },
    {
      "cell_type": "code",
      "source": [
        "print('Cantidad de datos faltantes:')\n",
        "for column in df:\n",
        "    nans = df[column].isna().sum()\n",
        "    print(f'\\tColumna {column}: {nans}')"
      ],
      "metadata": {
        "colab": {
          "base_uri": "https://localhost:8080/"
        },
        "id": "L2OET4drMLtW",
        "outputId": "1ebaa951-8840-4955-e679-08cfda1ac697"
      },
      "execution_count": 6,
      "outputs": [
        {
          "output_type": "stream",
          "name": "stdout",
          "text": [
            "Cantidad de datos faltantes:\n",
            "\tColumna valeur (m3/s): 1\n"
          ]
        }
      ]
    },
    {
      "cell_type": "code",
      "source": [
        "#Inteerpolación de los datos faltantes, que es solo q\n",
        "for column in df.columns:\n",
        "    df[column] = df[column].interpolate(method='linear')"
      ],
      "metadata": {
        "id": "FR2Y72V4hwC6"
      },
      "execution_count": 7,
      "outputs": []
    },
    {
      "cell_type": "code",
      "source": [
        "plt.plot(df)"
      ],
      "metadata": {
        "colab": {
          "base_uri": "https://localhost:8080/",
          "height": 447
        },
        "id": "s05Qrb4UMMCc",
        "outputId": "d9e922e7-99e1-4c09-952f-80f13afc0e49"
      },
      "execution_count": 8,
      "outputs": [
        {
          "output_type": "execute_result",
          "data": {
            "text/plain": [
              "[<matplotlib.lines.Line2D at 0x7efde41e7400>]"
            ]
          },
          "metadata": {},
          "execution_count": 8
        },
        {
          "output_type": "display_data",
          "data": {
            "text/plain": [
              "<Figure size 640x480 with 1 Axes>"
            ],
            "image/png": "[encoded data removed]"
          },
          "metadata": {}
        }
      ]
    },
    {
      "cell_type": "code",
      "source": [
        "#Identificación del patrón de comportamiento para un año específico\n",
        "plt.plot(df[:400])"
      ],
      "metadata": {
        "colab": {
          "base_uri": "https://localhost:8080/",
          "height": 447
        },
        "id": "z2l9cUTsE3TV",
        "outputId": "cbd184fe-83ba-4de7-b7f2-5a5ccc0a5732"
      },
      "execution_count": 9,
      "outputs": [
        {
          "output_type": "execute_result",
          "data": {
            "text/plain": [
              "[<matplotlib.lines.Line2D at 0x7efde3722e00>]"
            ]
          },
          "metadata": {},
          "execution_count": 9
        },
        {
          "output_type": "display_data",
          "data": {
            "text/plain": [
              "<Figure size 640x480 with 1 Axes>"
            ],
            "image/png": "[encoded data removed]"
          },
          "metadata": {}
        }
      ]
    },
    {
      "cell_type": "code",
      "source": [
        "df_time_diffs = df.index.to_series().diff().dt.total_seconds()\n",
        "print(df_time_diffs.value_counts())"
      ],
      "metadata": {
        "colab": {
          "base_uri": "https://localhost:8080/"
        },
        "id": "qmtNYCuqMrq2",
        "outputId": "bb17f31c-8c13-4074-b3d9-5a3cfa77e1c5"
      },
      "execution_count": 10,
      "outputs": [
        {
          "output_type": "stream",
          "name": "stdout",
          "text": [
            "86400.0      18877\n",
            "3974400.0        1\n",
            "Name: date, dtype: int64\n"
          ]
        }
      ]
    },
    {
      "cell_type": "code",
      "source": [
        "#Fecha en la que hay una falta de registros de aproximadamente mes y medio\n",
        "df_time_diffs[df_time_diffs == 3974400.0]"
      ],
      "metadata": {
        "colab": {
          "base_uri": "https://localhost:8080/"
        },
        "id": "V1FPKISZNt82",
        "outputId": "361f1127-bc6b-441b-d826-ad19d05890bc"
      },
      "execution_count": 11,
      "outputs": [
        {
          "output_type": "execute_result",
          "data": {
            "text/plain": [
              "date\n",
              "2017-01-01 12:00:00    3974400.0\n",
              "Name: date, dtype: float64"
            ]
          },
          "metadata": {},
          "execution_count": 11
        }
      ]
    },
    {
      "cell_type": "code",
      "source": [
        "#Llenamos los registros que no aparecían\n",
        "df2 = df.asfreq(freq='D', method='bfill')"
      ],
      "metadata": {
        "id": "il861dZKRzd_"
      },
      "execution_count": 12,
      "outputs": []
    },
    {
      "cell_type": "code",
      "source": [
        "df_time_diffs = df2.index.to_series().diff().dt.total_seconds()\n",
        "print(df_time_diffs.value_counts())"
      ],
      "metadata": {
        "colab": {
          "base_uri": "https://localhost:8080/"
        },
        "id": "Xelps4vbR3Tn",
        "outputId": "fe298818-b0cd-437a-99f0-f5a36d046856"
      },
      "execution_count": 13,
      "outputs": [
        {
          "output_type": "stream",
          "name": "stdout",
          "text": [
            "86400.0    18923\n",
            "Name: date, dtype: int64\n"
          ]
        }
      ]
    },
    {
      "cell_type": "code",
      "source": [
        "#Se escalan las variables para evitar que el modelo se sesgue por las dimensiones de las variables\n",
        "MM = MinMaxScaler()\n",
        "df_Norm = pd.DataFrame(MM.fit_transform(df2))"
      ],
      "metadata": {
        "id": "HjwDwR5LR71S"
      },
      "execution_count": 14,
      "outputs": []
    },
    {
      "cell_type": "code",
      "source": [
        "df.describe()"
      ],
      "metadata": {
        "colab": {
          "base_uri": "https://localhost:8080/",
          "height": 300
        },
        "id": "E-WkskKlV837",
        "outputId": "f6a9c60f-0e29-4756-8349-742c94f94445"
      },
      "execution_count": 15,
      "outputs": [
        {
          "output_type": "execute_result",
          "data": {
            "text/plain": [
              "       valeur (m3/s)\n",
              "count   18879.000000\n",
              "mean   175319.096615\n",
              "std     51926.432070\n",
              "min     50680.000000\n",
              "25%    130700.000000\n",
              "50%    175900.000000\n",
              "75%    223100.000000\n",
              "max    278700.000000"
            ],
            "text/html": [
              "\n",
              "  <div id=\"df-e9780613-9ddd-43a2-b7c2-eda76dc5b982\">\n",
              "    <div class=\"colab-df-container\">\n",
              "      <div>\n",
              "<style scoped>\n",
              "    .dataframe tbody tr th:only-of-type {\n",
              "        vertical-align: middle;\n",
              "    }\n",
              "\n",
              "    .dataframe tbody tr th {\n",
              "        vertical-align: top;\n",
              "    }\n",
              "\n",
              "    .dataframe thead th {\n",
              "        text-align: right;\n",
              "    }\n",
              "</style>\n",
              "<table border=\"1\" class=\"dataframe\">\n",
              "  <thead>\n",
              "    <tr style=\"text-align: right;\">\n",
              "      <th></th>\n",
              "      <th>valeur (m3/s)</th>\n",
              "    </tr>\n",
              "  </thead>\n",
              "  <tbody>\n",
              "    <tr>\n",
              "      <th>count</th>\n",
              "      <td>18879.000000</td>\n",
              "    </tr>\n",
              "    <tr>\n",
              "      <th>mean</th>\n",
              "      <td>175319.096615</td>\n",
              "    </tr>\n",
              "    <tr>\n",
              "      <th>std</th>\n",
              "      <td>51926.432070</td>\n",
              "    </tr>\n",
              "    <tr>\n",
              "      <th>min</th>\n",
              "      <td>50680.000000</td>\n",
              "    </tr>\n",
              "    <tr>\n",
              "      <th>25%</th>\n",
              "      <td>130700.000000</td>\n",
              "    </tr>\n",
              "    <tr>\n",
              "      <th>50%</th>\n",
              "      <td>175900.000000</td>\n",
              "    </tr>\n",
              "    <tr>\n",
              "      <th>75%</th>\n",
              "      <td>223100.000000</td>\n",
              "    </tr>\n",
              "    <tr>\n",
              "      <th>max</th>\n",
              "      <td>278700.000000</td>\n",
              "    </tr>\n",
              "  </tbody>\n",
              "</table>\n",
              "</div>\n",
              "      <button class=\"colab-df-convert\" onclick=\"convertToInteractive('df-e9780613-9ddd-43a2-b7c2-eda76dc5b982')\"\n",
              "              title=\"Convert this dataframe to an interactive table.\"\n",
              "              style=\"display:none;\">\n",
              "        \n",
              "  <svg xmlns=\"http://www.w3.org/2000/svg\" height=\"24px\"viewBox=\"0 0 24 24\"\n",
              "       width=\"24px\">\n",
              "    <path d=\"M0 0h24v24H0V0z\" fill=\"none\"/>\n",
              "    <path d=\"M18.56 5.44l.94 2.06.94-2.06 2.06-.94-2.06-.94-.94-2.06-.94 2.06-2.06.94zm-11 1L8.5 8.5l.94-2.06 2.06-.94-2.06-.94L8.5 2.5l-.94 2.06-2.06.94zm10 10l.94 2.06.94-2.06 2.06-.94-2.06-.94-.94-2.06-.94 2.06-2.06.94z\"/><path d=\"M17.41 7.96l-1.37-1.37c-.4-.4-.92-.59-1.43-.59-.52 0-1.04.2-1.43.59L10.3 9.45l-7.72 7.72c-.78.78-.78 2.05 0 2.83L4 21.41c.39.39.9.59 1.41.59.51 0 1.02-.2 1.41-.59l7.78-7.78 2.81-2.81c.8-.78.8-2.07 0-2.86zM5.41 20L4 18.59l7.72-7.72 1.47 1.35L5.41 20z\"/>\n",
              "  </svg>\n",
              "      </button>\n",
              "      \n",
              "  <style>\n",
              "    .colab-df-container {\n",
              "      display:flex;\n",
              "      flex-wrap:wrap;\n",
              "      gap: 12px;\n",
              "    }\n",
              "\n",
              "    .colab-df-convert {\n",
              "      background-color: #E8F0FE;\n",
              "      border: none;\n",
              "      border-radius: 50%;\n",
              "      cursor: pointer;\n",
              "      display: none;\n",
              "      fill: #1967D2;\n",
              "      height: 32px;\n",
              "      padding: 0 0 0 0;\n",
              "      width: 32px;\n",
              "    }\n",
              "\n",
              "    .colab-df-convert:hover {\n",
              "      background-color: #E2EBFA;\n",
              "      box-shadow: 0px 1px 2px rgba(60, 64, 67, 0.3), 0px 1px 3px 1px rgba(60, 64, 67, 0.15);\n",
              "      fill: #174EA6;\n",
              "    }\n",
              "\n",
              "    [theme=dark] .colab-df-convert {\n",
              "      background-color: #3B4455;\n",
              "      fill: #D2E3FC;\n",
              "    }\n",
              "\n",
              "    [theme=dark] .colab-df-convert:hover {\n",
              "      background-color: #434B5C;\n",
              "      box-shadow: 0px 1px 3px 1px rgba(0, 0, 0, 0.15);\n",
              "      filter: drop-shadow(0px 1px 2px rgba(0, 0, 0, 0.3));\n",
              "      fill: #FFFFFF;\n",
              "    }\n",
              "  </style>\n",
              "\n",
              "      <script>\n",
              "        const buttonEl =\n",
              "          document.querySelector('#df-e9780613-9ddd-43a2-b7c2-eda76dc5b982 button.colab-df-convert');\n",
              "        buttonEl.style.display =\n",
              "          google.colab.kernel.accessAllowed ? 'block' : 'none';\n",
              "\n",
              "        async function convertToInteractive(key) {\n",
              "          const element = document.querySelector('#df-e9780613-9ddd-43a2-b7c2-eda76dc5b982');\n",
              "          const dataTable =\n",
              "            await google.colab.kernel.invokeFunction('convertToInteractive',\n",
              "                                                     [key], {});\n",
              "          if (!dataTable) return;\n",
              "\n",
              "          const docLinkHtml = 'Like what you see? Visit the ' +\n",
              "            '<a target=\"_blank\" href=https://colab.research.google.com/notebooks/data_table.ipynb>data table notebook</a>'\n",
              "            + ' to learn more about interactive tables.';\n",
              "          element.innerHTML = '';\n",
              "          dataTable['output_type'] = 'display_data';\n",
              "          await google.colab.output.renderOutput(dataTable, element);\n",
              "          const docLink = document.createElement('div');\n",
              "          docLink.innerHTML = docLinkHtml;\n",
              "          element.appendChild(docLink);\n",
              "        }\n",
              "      </script>\n",
              "    </div>\n",
              "  </div>\n",
              "  "
            ]
          },
          "metadata": {},
          "execution_count": 15
        }
      ]
    },
    {
      "cell_type": "code",
      "source": [
        "df2.describe()"
      ],
      "metadata": {
        "colab": {
          "base_uri": "https://localhost:8080/",
          "height": 300
        },
        "id": "d6mO2jrNW_5S",
        "outputId": "2e81983c-8bf6-46cc-fead-3ff8f82ef21a"
      },
      "execution_count": 16,
      "outputs": [
        {
          "output_type": "execute_result",
          "data": {
            "text/plain": [
              "       valeur (m3/s)\n",
              "count   18924.000000\n",
              "mean   175180.417724\n",
              "std     51942.382325\n",
              "min     50680.000000\n",
              "25%    130400.000000\n",
              "50%    175700.000000\n",
              "75%    223000.000000\n",
              "max    278700.000000"
            ],
            "text/html": [
              "\n",
              "  <div id=\"df-ae56352c-e163-4fba-9437-df60c52cd709\">\n",
              "    <div class=\"colab-df-container\">\n",
              "      <div>\n",
              "<style scoped>\n",
              "    .dataframe tbody tr th:only-of-type {\n",
              "        vertical-align: middle;\n",
              "    }\n",
              "\n",
              "    .dataframe tbody tr th {\n",
              "        vertical-align: top;\n",
              "    }\n",
              "\n",
              "    .dataframe thead th {\n",
              "        text-align: right;\n",
              "    }\n",
              "</style>\n",
              "<table border=\"1\" class=\"dataframe\">\n",
              "  <thead>\n",
              "    <tr style=\"text-align: right;\">\n",
              "      <th></th>\n",
              "      <th>valeur (m3/s)</th>\n",
              "    </tr>\n",
              "  </thead>\n",
              "  <tbody>\n",
              "    <tr>\n",
              "      <th>count</th>\n",
              "      <td>18924.000000</td>\n",
              "    </tr>\n",
              "    <tr>\n",
              "      <th>mean</th>\n",
              "      <td>175180.417724</td>\n",
              "    </tr>\n",
              "    <tr>\n",
              "      <th>std</th>\n",
              "      <td>51942.382325</td>\n",
              "    </tr>\n",
              "    <tr>\n",
              "      <th>min</th>\n",
              "      <td>50680.000000</td>\n",
              "    </tr>\n",
              "    <tr>\n",
              "      <th>25%</th>\n",
              "      <td>130400.000000</td>\n",
              "    </tr>\n",
              "    <tr>\n",
              "      <th>50%</th>\n",
              "      <td>175700.000000</td>\n",
              "    </tr>\n",
              "    <tr>\n",
              "      <th>75%</th>\n",
              "      <td>223000.000000</td>\n",
              "    </tr>\n",
              "    <tr>\n",
              "      <th>max</th>\n",
              "      <td>278700.000000</td>\n",
              "    </tr>\n",
              "  </tbody>\n",
              "</table>\n",
              "</div>\n",
              "      <button class=\"colab-df-convert\" onclick=\"convertToInteractive('df-ae56352c-e163-4fba-9437-df60c52cd709')\"\n",
              "              title=\"Convert this dataframe to an interactive table.\"\n",
              "              style=\"display:none;\">\n",
              "        \n",
              "  <svg xmlns=\"http://www.w3.org/2000/svg\" height=\"24px\"viewBox=\"0 0 24 24\"\n",
              "       width=\"24px\">\n",
              "    <path d=\"M0 0h24v24H0V0z\" fill=\"none\"/>\n",
              "    <path d=\"M18.56 5.44l.94 2.06.94-2.06 2.06-.94-2.06-.94-.94-2.06-.94 2.06-2.06.94zm-11 1L8.5 8.5l.94-2.06 2.06-.94-2.06-.94L8.5 2.5l-.94 2.06-2.06.94zm10 10l.94 2.06.94-2.06 2.06-.94-2.06-.94-.94-2.06-.94 2.06-2.06.94z\"/><path d=\"M17.41 7.96l-1.37-1.37c-.4-.4-.92-.59-1.43-.59-.52 0-1.04.2-1.43.59L10.3 9.45l-7.72 7.72c-.78.78-.78 2.05 0 2.83L4 21.41c.39.39.9.59 1.41.59.51 0 1.02-.2 1.41-.59l7.78-7.78 2.81-2.81c.8-.78.8-2.07 0-2.86zM5.41 20L4 18.59l7.72-7.72 1.47 1.35L5.41 20z\"/>\n",
              "  </svg>\n",
              "      </button>\n",
              "      \n",
              "  <style>\n",
              "    .colab-df-container {\n",
              "      display:flex;\n",
              "      flex-wrap:wrap;\n",
              "      gap: 12px;\n",
              "    }\n",
              "\n",
              "    .colab-df-convert {\n",
              "      background-color: #E8F0FE;\n",
              "      border: none;\n",
              "      border-radius: 50%;\n",
              "      cursor: pointer;\n",
              "      display: none;\n",
              "      fill: #1967D2;\n",
              "      height: 32px;\n",
              "      padding: 0 0 0 0;\n",
              "      width: 32px;\n",
              "    }\n",
              "\n",
              "    .colab-df-convert:hover {\n",
              "      background-color: #E2EBFA;\n",
              "      box-shadow: 0px 1px 2px rgba(60, 64, 67, 0.3), 0px 1px 3px 1px rgba(60, 64, 67, 0.15);\n",
              "      fill: #174EA6;\n",
              "    }\n",
              "\n",
              "    [theme=dark] .colab-df-convert {\n",
              "      background-color: #3B4455;\n",
              "      fill: #D2E3FC;\n",
              "    }\n",
              "\n",
              "    [theme=dark] .colab-df-convert:hover {\n",
              "      background-color: #434B5C;\n",
              "      box-shadow: 0px 1px 3px 1px rgba(0, 0, 0, 0.15);\n",
              "      filter: drop-shadow(0px 1px 2px rgba(0, 0, 0, 0.3));\n",
              "      fill: #FFFFFF;\n",
              "    }\n",
              "  </style>\n",
              "\n",
              "      <script>\n",
              "        const buttonEl =\n",
              "          document.querySelector('#df-ae56352c-e163-4fba-9437-df60c52cd709 button.colab-df-convert');\n",
              "        buttonEl.style.display =\n",
              "          google.colab.kernel.accessAllowed ? 'block' : 'none';\n",
              "\n",
              "        async function convertToInteractive(key) {\n",
              "          const element = document.querySelector('#df-ae56352c-e163-4fba-9437-df60c52cd709');\n",
              "          const dataTable =\n",
              "            await google.colab.kernel.invokeFunction('convertToInteractive',\n",
              "                                                     [key], {});\n",
              "          if (!dataTable) return;\n",
              "\n",
              "          const docLinkHtml = 'Like what you see? Visit the ' +\n",
              "            '<a target=\"_blank\" href=https://colab.research.google.com/notebooks/data_table.ipynb>data table notebook</a>'\n",
              "            + ' to learn more about interactive tables.';\n",
              "          element.innerHTML = '';\n",
              "          dataTable['output_type'] = 'display_data';\n",
              "          await google.colab.output.renderOutput(dataTable, element);\n",
              "          const docLink = document.createElement('div');\n",
              "          docLink.innerHTML = docLinkHtml;\n",
              "          element.appendChild(docLink);\n",
              "        }\n",
              "      </script>\n",
              "    </div>\n",
              "  </div>\n",
              "  "
            ]
          },
          "metadata": {},
          "execution_count": 16
        }
      ]
    },
    {
      "cell_type": "code",
      "source": [
        "def particion(data, tr_size=0.8, vl_size=0.1, ts_size=0.1 ):\n",
        "\n",
        "    N = data.shape[0]\n",
        "    Ntrain = int(tr_size*N)  # Número de datos de entrenamiento\n",
        "    Nval = int(vl_size*N)    # Número de datos de validación\n",
        "    Ntst = N - Ntrain - Nval # Número de datos de prueba\n",
        "\n",
        "    # Realizar partición\n",
        "    train = data[0:Ntrain]\n",
        "    val = data[Ntrain:Ntrain+Nval]\n",
        "    test = data[Ntrain+Nval:]\n",
        "\n",
        "    return train, val, test"
      ],
      "metadata": {
        "id": "3gdhDqbRXC04"
      },
      "execution_count": 17,
      "outputs": []
    },
    {
      "cell_type": "code",
      "source": [
        "tr, vl, ts = particion(df_Norm)"
      ],
      "metadata": {
        "id": "vWVIsLXN9Ixl"
      },
      "execution_count": 18,
      "outputs": []
    },
    {
      "cell_type": "code",
      "source": [
        "# Crear los datasets de entrenamiento, prueba y validación y verificar sus tamaños\n",
        "long_entrada = 30    # Posteriormente afinaremos este hiperparámetro\n",
        "long_salida = 1    # Modelo uni-step\n",
        "\n",
        "def crear_dataset_supervisado(array, input_length, output_length):\n",
        "    '''Permite crear un dataset con las entradas (X) y salidas (Y)\n",
        "    requeridas por la Red LSTM.\n",
        "\n",
        "    Parámetros:\n",
        "    - array: arreglo numpy de tamaño N x features (N: cantidad de datos,\n",
        "      f: cantidad de features)\n",
        "    - input_length: instantes de tiempo consecutivos de la(s) serie(s) de tiempo\n",
        "      usados para alimentar el modelo\n",
        "    - output_length: instantes de tiempo a pronosticar (salida del modelo)\n",
        "    '''\n",
        "\n",
        "    # Inicialización\n",
        "    X, Y = [], []    # Listados que contendrán los datos de entrada y salida del modelo\n",
        "    shape = array.shape\n",
        "    if len(shape)==1: # Si tenemos sólo una serie (univariado)\n",
        "        fils, cols = array.shape[0], 1\n",
        "        array = array.reshape(fils,cols)\n",
        "    else: # Multivariado\n",
        "        fils, cols = array.shape\n",
        "\n",
        "    # Generar los arreglos\n",
        "    for i in range(fils-input_length-output_length):\n",
        "        X.append(array[i:i+long_entrada,0:cols])\n",
        "        Y.append(array[i+input_length:i+input_length+output_length,-1].reshape(output_length,1))\n",
        "\n",
        "    # Convertir listas a arreglos de NumPy\n",
        "    X = np.array(X)\n",
        "    Y = np.array(Y)\n",
        "\n",
        "    return X, Y"
      ],
      "metadata": {
        "id": "4jRpma4omHWt"
      },
      "execution_count": 19,
      "outputs": []
    },
    {
      "cell_type": "code",
      "source": [
        "x_tr, y_tr = crear_dataset_supervisado(tr.values, long_entrada, long_salida)\n",
        "x_vl, y_vl = crear_dataset_supervisado(vl.values, long_entrada, long_salida)\n",
        "x_ts, y_ts = crear_dataset_supervisado(ts.values, long_entrada, long_salida)\n",
        "\n",
        "# Imprimir información en pantalla\n",
        "print('Tamaños entrada (BATCHES x INPUT_LENGTH x FEATURES) y de salida (BATCHES x OUTPUT_LENGTH x FEATURES)')\n",
        "print(f'Set de entrenamiento - x_tr: {x_tr.shape}, y_tr: {y_tr.shape}')\n",
        "print(f'Set de validación - x_vl: {x_vl.shape}, y_vl: {y_vl.shape}')\n",
        "print(f'Set de prueba - x_ts: {x_ts.shape}, y_ts: {y_ts.shape}')"
      ],
      "metadata": {
        "colab": {
          "base_uri": "https://localhost:8080/"
        },
        "id": "kMfJIo0g52j2",
        "outputId": "f4601c25-c371-4e26-c917-ddccd80ea300"
      },
      "execution_count": 20,
      "outputs": [
        {
          "output_type": "stream",
          "name": "stdout",
          "text": [
            "Tamaños entrada (BATCHES x INPUT_LENGTH x FEATURES) y de salida (BATCHES x OUTPUT_LENGTH x FEATURES)\n",
            "Set de entrenamiento - x_tr: (15108, 30, 1), y_tr: (15108, 1, 1)\n",
            "Set de validación - x_vl: (1861, 30, 1), y_vl: (1861, 1, 1)\n",
            "Set de prueba - x_ts: (1862, 30, 1), y_ts: (1862, 1, 1)\n"
          ]
        }
      ]
    },
    {
      "cell_type": "code",
      "source": [
        "df_Norm"
      ],
      "metadata": {
        "colab": {
          "base_uri": "https://localhost:8080/",
          "height": 423
        },
        "id": "-BW6uoPC6nuR",
        "outputId": "8b8a2211-d6d9-4875-f96c-bb556f944f49"
      },
      "execution_count": 21,
      "outputs": [
        {
          "output_type": "execute_result",
          "data": {
            "text/plain": [
              "              0\n",
              "0      0.397860\n",
              "1      0.399614\n",
              "2      0.403561\n",
              "3      0.410578\n",
              "4      0.413648\n",
              "...         ...\n",
              "18919  0.375932\n",
              "18920  0.379002\n",
              "18921  0.381633\n",
              "18922  0.382072\n",
              "18923  0.386019\n",
              "\n",
              "[18924 rows x 1 columns]"
            ],
            "text/html": [
              "\n",
              "  <div id=\"df-8acfdec8-1a9a-4a5e-88d5-a50ab7203727\">\n",
              "    <div class=\"colab-df-container\">\n",
              "      <div>\n",
              "<style scoped>\n",
              "    .dataframe tbody tr th:only-of-type {\n",
              "        vertical-align: middle;\n",
              "    }\n",
              "\n",
              "    .dataframe tbody tr th {\n",
              "        vertical-align: top;\n",
              "    }\n",
              "\n",
              "    .dataframe thead th {\n",
              "        text-align: right;\n",
              "    }\n",
              "</style>\n",
              "<table border=\"1\" class=\"dataframe\">\n",
              "  <thead>\n",
              "    <tr style=\"text-align: right;\">\n",
              "      <th></th>\n",
              "      <th>0</th>\n",
              "    </tr>\n",
              "  </thead>\n",
              "  <tbody>\n",
              "    <tr>\n",
              "      <th>0</th>\n",
              "      <td>0.397860</td>\n",
              "    </tr>\n",
              "    <tr>\n",
              "      <th>1</th>\n",
              "      <td>0.399614</td>\n",
              "    </tr>\n",
              "    <tr>\n",
              "      <th>2</th>\n",
              "      <td>0.403561</td>\n",
              "    </tr>\n",
              "    <tr>\n",
              "      <th>3</th>\n",
              "      <td>0.410578</td>\n",
              "    </tr>\n",
              "    <tr>\n",
              "      <th>4</th>\n",
              "      <td>0.413648</td>\n",
              "    </tr>\n",
              "    <tr>\n",
              "      <th>...</th>\n",
              "      <td>...</td>\n",
              "    </tr>\n",
              "    <tr>\n",
              "      <th>18919</th>\n",
              "      <td>0.375932</td>\n",
              "    </tr>\n",
              "    <tr>\n",
              "      <th>18920</th>\n",
              "      <td>0.379002</td>\n",
              "    </tr>\n",
              "    <tr>\n",
              "      <th>18921</th>\n",
              "      <td>0.381633</td>\n",
              "    </tr>\n",
              "    <tr>\n",
              "      <th>18922</th>\n",
              "      <td>0.382072</td>\n",
              "    </tr>\n",
              "    <tr>\n",
              "      <th>18923</th>\n",
              "      <td>0.386019</td>\n",
              "    </tr>\n",
              "  </tbody>\n",
              "</table>\n",
              "<p>18924 rows × 1 columns</p>\n",
              "</div>\n",
              "      <button class=\"colab-df-convert\" onclick=\"convertToInteractive('df-8acfdec8-1a9a-4a5e-88d5-a50ab7203727')\"\n",
              "              title=\"Convert this dataframe to an interactive table.\"\n",
              "              style=\"display:none;\">\n",
              "        \n",
              "  <svg xmlns=\"http://www.w3.org/2000/svg\" height=\"24px\"viewBox=\"0 0 24 24\"\n",
              "       width=\"24px\">\n",
              "    <path d=\"M0 0h24v24H0V0z\" fill=\"none\"/>\n",
              "    <path d=\"M18.56 5.44l.94 2.06.94-2.06 2.06-.94-2.06-.94-.94-2.06-.94 2.06-2.06.94zm-11 1L8.5 8.5l.94-2.06 2.06-.94-2.06-.94L8.5 2.5l-.94 2.06-2.06.94zm10 10l.94 2.06.94-2.06 2.06-.94-2.06-.94-.94-2.06-.94 2.06-2.06.94z\"/><path d=\"M17.41 7.96l-1.37-1.37c-.4-.4-.92-.59-1.43-.59-.52 0-1.04.2-1.43.59L10.3 9.45l-7.72 7.72c-.78.78-.78 2.05 0 2.83L4 21.41c.39.39.9.59 1.41.59.51 0 1.02-.2 1.41-.59l7.78-7.78 2.81-2.81c.8-.78.8-2.07 0-2.86zM5.41 20L4 18.59l7.72-7.72 1.47 1.35L5.41 20z\"/>\n",
              "  </svg>\n",
              "      </button>\n",
              "      \n",
              "  <style>\n",
              "    .colab-df-container {\n",
              "      display:flex;\n",
              "      flex-wrap:wrap;\n",
              "      gap: 12px;\n",
              "    }\n",
              "\n",
              "    .colab-df-convert {\n",
              "      background-color: #E8F0FE;\n",
              "      border: none;\n",
              "      border-radius: 50%;\n",
              "      cursor: pointer;\n",
              "      display: none;\n",
              "      fill: #1967D2;\n",
              "      height: 32px;\n",
              "      padding: 0 0 0 0;\n",
              "      width: 32px;\n",
              "    }\n",
              "\n",
              "    .colab-df-convert:hover {\n",
              "      background-color: #E2EBFA;\n",
              "      box-shadow: 0px 1px 2px rgba(60, 64, 67, 0.3), 0px 1px 3px 1px rgba(60, 64, 67, 0.15);\n",
              "      fill: #174EA6;\n",
              "    }\n",
              "\n",
              "    [theme=dark] .colab-df-convert {\n",
              "      background-color: #3B4455;\n",
              "      fill: #D2E3FC;\n",
              "    }\n",
              "\n",
              "    [theme=dark] .colab-df-convert:hover {\n",
              "      background-color: #434B5C;\n",
              "      box-shadow: 0px 1px 3px 1px rgba(0, 0, 0, 0.15);\n",
              "      filter: drop-shadow(0px 1px 2px rgba(0, 0, 0, 0.3));\n",
              "      fill: #FFFFFF;\n",
              "    }\n",
              "  </style>\n",
              "\n",
              "      <script>\n",
              "        const buttonEl =\n",
              "          document.querySelector('#df-8acfdec8-1a9a-4a5e-88d5-a50ab7203727 button.colab-df-convert');\n",
              "        buttonEl.style.display =\n",
              "          google.colab.kernel.accessAllowed ? 'block' : 'none';\n",
              "\n",
              "        async function convertToInteractive(key) {\n",
              "          const element = document.querySelector('#df-8acfdec8-1a9a-4a5e-88d5-a50ab7203727');\n",
              "          const dataTable =\n",
              "            await google.colab.kernel.invokeFunction('convertToInteractive',\n",
              "                                                     [key], {});\n",
              "          if (!dataTable) return;\n",
              "\n",
              "          const docLinkHtml = 'Like what you see? Visit the ' +\n",
              "            '<a target=\"_blank\" href=https://colab.research.google.com/notebooks/data_table.ipynb>data table notebook</a>'\n",
              "            + ' to learn more about interactive tables.';\n",
              "          element.innerHTML = '';\n",
              "          dataTable['output_type'] = 'display_data';\n",
              "          await google.colab.output.renderOutput(dataTable, element);\n",
              "          const docLink = document.createElement('div');\n",
              "          docLink.innerHTML = docLinkHtml;\n",
              "          element.appendChild(docLink);\n",
              "        }\n",
              "      </script>\n",
              "    </div>\n",
              "  </div>\n",
              "  "
            ]
          },
          "metadata": {},
          "execution_count": 21
        }
      ]
    },
    {
      "cell_type": "code",
      "source": [
        "# Creación del modelo\n",
        "from tensorflow.keras.models import Sequential\n",
        "from tensorflow.keras.layers import LSTM, Dense\n",
        "from tensorflow.keras.optimizers import RMSprop\n",
        "import tensorflow as tf\n",
        "\n",
        "# Ajustar parámetros para reproducibilidad del entrenamiento\n",
        "tf.random.set_seed(123)\n",
        "tf.config.experimental.enable_op_determinism()\n",
        "\n",
        "# El modelo\n",
        "N_UNITS = 128 # Tamaño del estado oculto (h) y de la celda de memoria (c)\n",
        "INPUT_SHAPE = (x_tr.shape[1], x_tr.shape[2]) # 30 (días) x 1 (feature)\n",
        "\n",
        "modelo = Sequential()\n",
        "modelo.add(LSTM(N_UNITS, input_shape=INPUT_SHAPE))\n",
        "modelo.add(Dense(long_salida, activation='linear')) # activation = 'linear' pues queremos pronosticar (regresión)\n",
        "\n",
        "def RMS(y_true, y_pred):\n",
        "    rmse = tf.math.sqrt(tf.math.reduce_mean(tf.square(y_pred-y_true)))\n",
        "    return rmse\n",
        "\n",
        "# Compilación\n",
        "optimizador = RMSprop(learning_rate=5e-5)\n",
        "modelo.compile(\n",
        "    optimizer = optimizador,\n",
        "    loss = RMS,\n",
        ")\n",
        "\n",
        "# Entrenamiento\n",
        "EPOCHS = 80 # Hiperparámetro\n",
        "BATCH_SIZE = 256 # Hiperparámetro\n",
        "grafico = modelo.fit(\n",
        "    x = x_tr,\n",
        "    y = y_tr,\n",
        "    batch_size = BATCH_SIZE,\n",
        "    epochs = EPOCHS,\n",
        "    validation_data = (x_vl, y_vl),\n",
        "    verbose=2\n",
        ")"
      ],
      "metadata": {
        "colab": {
          "base_uri": "https://localhost:8080/"
        },
        "id": "ZHERABj9-E_9",
        "outputId": "522c674a-b729-4df4-df80-16252a92698d"
      },
      "execution_count": 22,
      "outputs": [
        {
          "output_type": "stream",
          "name": "stdout",
          "text": [
            "Epoch 1/80\n",
            "60/60 - 10s - loss: 0.3797 - val_loss: 0.1904 - 10s/epoch - 163ms/step\n",
            "Epoch 2/80\n",
            "60/60 - 8s - loss: 0.0619 - val_loss: 0.0563 - 8s/epoch - 131ms/step\n",
            "Epoch 3/80\n",
            "60/60 - 6s - loss: 0.0372 - val_loss: 0.0491 - 6s/epoch - 103ms/step\n",
            "Epoch 4/80\n",
            "60/60 - 7s - loss: 0.0328 - val_loss: 0.0450 - 7s/epoch - 121ms/step\n",
            "Epoch 5/80\n",
            "60/60 - 6s - loss: 0.0292 - val_loss: 0.0429 - 6s/epoch - 104ms/step\n",
            "Epoch 6/80\n",
            "60/60 - 7s - loss: 0.0259 - val_loss: 0.0334 - 7s/epoch - 120ms/step\n",
            "Epoch 7/80\n",
            "60/60 - 6s - loss: 0.0221 - val_loss: 0.0267 - 6s/epoch - 104ms/step\n",
            "Epoch 8/80\n",
            "60/60 - 7s - loss: 0.0179 - val_loss: 0.0249 - 7s/epoch - 122ms/step\n",
            "Epoch 9/80\n",
            "60/60 - 6s - loss: 0.0138 - val_loss: 0.0224 - 6s/epoch - 108ms/step\n",
            "Epoch 10/80\n",
            "60/60 - 8s - loss: 0.0111 - val_loss: 0.0120 - 8s/epoch - 134ms/step\n",
            "Epoch 11/80\n",
            "60/60 - 7s - loss: 0.0101 - val_loss: 0.0165 - 7s/epoch - 122ms/step\n",
            "Epoch 12/80\n",
            "60/60 - 6s - loss: 0.0100 - val_loss: 0.0124 - 6s/epoch - 103ms/step\n",
            "Epoch 13/80\n",
            "60/60 - 7s - loss: 0.0100 - val_loss: 0.0158 - 7s/epoch - 122ms/step\n",
            "Epoch 14/80\n",
            "60/60 - 6s - loss: 0.0098 - val_loss: 0.0142 - 6s/epoch - 103ms/step\n",
            "Epoch 15/80\n",
            "60/60 - 7s - loss: 0.0097 - val_loss: 0.0127 - 7s/epoch - 121ms/step\n",
            "Epoch 16/80\n",
            "60/60 - 6s - loss: 0.0096 - val_loss: 0.0168 - 6s/epoch - 104ms/step\n",
            "Epoch 17/80\n",
            "60/60 - 7s - loss: 0.0096 - val_loss: 0.0131 - 7s/epoch - 121ms/step\n",
            "Epoch 18/80\n",
            "60/60 - 6s - loss: 0.0095 - val_loss: 0.0238 - 6s/epoch - 103ms/step\n",
            "Epoch 19/80\n",
            "60/60 - 7s - loss: 0.0094 - val_loss: 0.0134 - 7s/epoch - 123ms/step\n",
            "Epoch 20/80\n",
            "60/60 - 7s - loss: 0.0094 - val_loss: 0.0172 - 7s/epoch - 111ms/step\n",
            "Epoch 21/80\n",
            "60/60 - 7s - loss: 0.0092 - val_loss: 0.0148 - 7s/epoch - 117ms/step\n",
            "Epoch 22/80\n",
            "60/60 - 7s - loss: 0.0092 - val_loss: 0.0116 - 7s/epoch - 118ms/step\n",
            "Epoch 23/80\n",
            "60/60 - 6s - loss: 0.0092 - val_loss: 0.0121 - 6s/epoch - 106ms/step\n",
            "Epoch 24/80\n",
            "60/60 - 7s - loss: 0.0091 - val_loss: 0.0101 - 7s/epoch - 123ms/step\n",
            "Epoch 25/80\n",
            "60/60 - 6s - loss: 0.0091 - val_loss: 0.0139 - 6s/epoch - 102ms/step\n",
            "Epoch 26/80\n",
            "60/60 - 7s - loss: 0.0090 - val_loss: 0.0183 - 7s/epoch - 121ms/step\n",
            "Epoch 27/80\n",
            "60/60 - 6s - loss: 0.0089 - val_loss: 0.0146 - 6s/epoch - 103ms/step\n",
            "Epoch 28/80\n",
            "60/60 - 7s - loss: 0.0089 - val_loss: 0.0099 - 7s/epoch - 121ms/step\n",
            "Epoch 29/80\n",
            "60/60 - 6s - loss: 0.0088 - val_loss: 0.0161 - 6s/epoch - 105ms/step\n",
            "Epoch 30/80\n",
            "60/60 - 7s - loss: 0.0088 - val_loss: 0.0163 - 7s/epoch - 123ms/step\n",
            "Epoch 31/80\n",
            "60/60 - 6s - loss: 0.0087 - val_loss: 0.0135 - 6s/epoch - 102ms/step\n",
            "Epoch 32/80\n",
            "60/60 - 7s - loss: 0.0087 - val_loss: 0.0096 - 7s/epoch - 121ms/step\n",
            "Epoch 33/80\n",
            "60/60 - 6s - loss: 0.0087 - val_loss: 0.0134 - 6s/epoch - 103ms/step\n",
            "Epoch 34/80\n",
            "60/60 - 7s - loss: 0.0086 - val_loss: 0.0101 - 7s/epoch - 120ms/step\n",
            "Epoch 35/80\n",
            "60/60 - 7s - loss: 0.0085 - val_loss: 0.0100 - 7s/epoch - 112ms/step\n",
            "Epoch 36/80\n",
            "60/60 - 7s - loss: 0.0085 - val_loss: 0.0123 - 7s/epoch - 112ms/step\n",
            "Epoch 37/80\n",
            "60/60 - 7s - loss: 0.0085 - val_loss: 0.0130 - 7s/epoch - 120ms/step\n",
            "Epoch 38/80\n",
            "60/60 - 6s - loss: 0.0084 - val_loss: 0.0134 - 6s/epoch - 102ms/step\n",
            "Epoch 39/80\n",
            "60/60 - 7s - loss: 0.0083 - val_loss: 0.0125 - 7s/epoch - 120ms/step\n",
            "Epoch 40/80\n",
            "60/60 - 6s - loss: 0.0084 - val_loss: 0.0124 - 6s/epoch - 103ms/step\n",
            "Epoch 41/80\n",
            "60/60 - 7s - loss: 0.0084 - val_loss: 0.0093 - 7s/epoch - 119ms/step\n",
            "Epoch 42/80\n",
            "60/60 - 6s - loss: 0.0082 - val_loss: 0.0138 - 6s/epoch - 103ms/step\n",
            "Epoch 43/80\n",
            "60/60 - 7s - loss: 0.0082 - val_loss: 0.0092 - 7s/epoch - 121ms/step\n",
            "Epoch 44/80\n",
            "60/60 - 6s - loss: 0.0082 - val_loss: 0.0136 - 6s/epoch - 103ms/step\n",
            "Epoch 45/80\n",
            "60/60 - 7s - loss: 0.0081 - val_loss: 0.0094 - 7s/epoch - 120ms/step\n",
            "Epoch 46/80\n",
            "60/60 - 6s - loss: 0.0082 - val_loss: 0.0111 - 6s/epoch - 102ms/step\n",
            "Epoch 47/80\n",
            "60/60 - 7s - loss: 0.0081 - val_loss: 0.0099 - 7s/epoch - 121ms/step\n",
            "Epoch 48/80\n",
            "60/60 - 6s - loss: 0.0081 - val_loss: 0.0109 - 6s/epoch - 102ms/step\n",
            "Epoch 49/80\n",
            "60/60 - 7s - loss: 0.0080 - val_loss: 0.0127 - 7s/epoch - 121ms/step\n",
            "Epoch 50/80\n",
            "60/60 - 7s - loss: 0.0081 - val_loss: 0.0133 - 7s/epoch - 108ms/step\n",
            "Epoch 51/80\n",
            "60/60 - 7s - loss: 0.0080 - val_loss: 0.0104 - 7s/epoch - 113ms/step\n",
            "Epoch 52/80\n",
            "60/60 - 7s - loss: 0.0080 - val_loss: 0.0123 - 7s/epoch - 117ms/step\n",
            "Epoch 53/80\n",
            "60/60 - 6s - loss: 0.0080 - val_loss: 0.0104 - 6s/epoch - 105ms/step\n",
            "Epoch 54/80\n",
            "60/60 - 7s - loss: 0.0080 - val_loss: 0.0088 - 7s/epoch - 121ms/step\n",
            "Epoch 55/80\n",
            "60/60 - 6s - loss: 0.0079 - val_loss: 0.0130 - 6s/epoch - 102ms/step\n",
            "Epoch 56/80\n",
            "60/60 - 7s - loss: 0.0079 - val_loss: 0.0165 - 7s/epoch - 120ms/step\n",
            "Epoch 57/80\n",
            "60/60 - 6s - loss: 0.0079 - val_loss: 0.0092 - 6s/epoch - 101ms/step\n",
            "Epoch 58/80\n",
            "60/60 - 7s - loss: 0.0078 - val_loss: 0.0098 - 7s/epoch - 121ms/step\n",
            "Epoch 59/80\n",
            "60/60 - 6s - loss: 0.0078 - val_loss: 0.0105 - 6s/epoch - 102ms/step\n",
            "Epoch 60/80\n",
            "60/60 - 7s - loss: 0.0077 - val_loss: 0.0097 - 7s/epoch - 120ms/step\n",
            "Epoch 61/80\n",
            "60/60 - 6s - loss: 0.0078 - val_loss: 0.0091 - 6s/epoch - 101ms/step\n",
            "Epoch 62/80\n",
            "60/60 - 7s - loss: 0.0077 - val_loss: 0.0090 - 7s/epoch - 119ms/step\n",
            "Epoch 63/80\n",
            "60/60 - 6s - loss: 0.0078 - val_loss: 0.0126 - 6s/epoch - 101ms/step\n",
            "Epoch 64/80\n",
            "60/60 - 7s - loss: 0.0078 - val_loss: 0.0101 - 7s/epoch - 121ms/step\n",
            "Epoch 65/80\n",
            "60/60 - 6s - loss: 0.0077 - val_loss: 0.0094 - 6s/epoch - 103ms/step\n",
            "Epoch 66/80\n",
            "60/60 - 7s - loss: 0.0077 - val_loss: 0.0108 - 7s/epoch - 119ms/step\n",
            "Epoch 67/80\n",
            "60/60 - 7s - loss: 0.0077 - val_loss: 0.0097 - 7s/epoch - 109ms/step\n",
            "Epoch 68/80\n",
            "60/60 - 7s - loss: 0.0076 - val_loss: 0.0133 - 7s/epoch - 113ms/step\n",
            "Epoch 69/80\n",
            "60/60 - 7s - loss: 0.0077 - val_loss: 0.0100 - 7s/epoch - 117ms/step\n",
            "Epoch 70/80\n",
            "60/60 - 6s - loss: 0.0076 - val_loss: 0.0084 - 6s/epoch - 105ms/step\n",
            "Epoch 71/80\n",
            "60/60 - 7s - loss: 0.0076 - val_loss: 0.0141 - 7s/epoch - 120ms/step\n",
            "Epoch 72/80\n",
            "60/60 - 6s - loss: 0.0076 - val_loss: 0.0112 - 6s/epoch - 102ms/step\n",
            "Epoch 73/80\n",
            "60/60 - 7s - loss: 0.0076 - val_loss: 0.0091 - 7s/epoch - 120ms/step\n",
            "Epoch 74/80\n",
            "60/60 - 6s - loss: 0.0076 - val_loss: 0.0104 - 6s/epoch - 102ms/step\n",
            "Epoch 75/80\n",
            "60/60 - 7s - loss: 0.0075 - val_loss: 0.0099 - 7s/epoch - 120ms/step\n",
            "Epoch 76/80\n",
            "60/60 - 6s - loss: 0.0075 - val_loss: 0.0087 - 6s/epoch - 102ms/step\n",
            "Epoch 77/80\n",
            "60/60 - 7s - loss: 0.0076 - val_loss: 0.0109 - 7s/epoch - 120ms/step\n",
            "Epoch 78/80\n",
            "60/60 - 6s - loss: 0.0075 - val_loss: 0.0107 - 6s/epoch - 102ms/step\n",
            "Epoch 79/80\n",
            "60/60 - 7s - loss: 0.0075 - val_loss: 0.0090 - 7s/epoch - 120ms/step\n",
            "Epoch 80/80\n",
            "60/60 - 6s - loss: 0.0075 - val_loss: 0.0102 - 6s/epoch - 102ms/step\n"
          ]
        }
      ]
    },
    {
      "cell_type": "code",
      "source": [
        " # Graficar curvas de entrenamiento y validación\n",
        " # para verificar que no existe overfitting\n",
        "plt.plot(grafico.history['loss'],label='RMSE entrenamiento')\n",
        "plt.plot(grafico.history['val_loss'],label='RMSE validación')\n",
        "plt.xlabel('Iteración')\n",
        "plt.ylabel('RMSE')\n",
        "plt.legend();"
      ],
      "metadata": {
        "colab": {
          "base_uri": "https://localhost:8080/",
          "height": 449
        },
        "id": "jVEydsTC-da4",
        "outputId": "b74dd61b-a2d5-45b8-ef58-f5a2232be32c"
      },
      "execution_count": 23,
      "outputs": [
        {
          "output_type": "display_data",
          "data": {
            "text/plain": [
              "<Figure size 640x480 with 1 Axes>"
            ],
            "image/png": "[encoded data removed]"
          },
          "metadata": {}
        }
      ]
    },
    {
      "cell_type": "code",
      "source": [
        "# Cálculo de rmses para train, val y test\n",
        "rmse_tr = modelo.evaluate(x=x_tr, y=y_tr, verbose=0)\n",
        "rmse_vl = modelo.evaluate(x=x_vl, y=y_vl, verbose=0)\n",
        "rmse_ts = modelo.evaluate(x=x_ts, y=y_ts, verbose=0)\n",
        "\n",
        "# Imprimir resultados en pantalla\n",
        "print('Comparativo desempeños:')\n",
        "print(f'  RMSE train:\\t {rmse_tr:.3f}')\n",
        "print(f'  RMSE val:\\t {rmse_vl:.3f}')\n",
        "print(f'  RMSE test:\\t {rmse_ts:.3f}')"
      ],
      "metadata": {
        "colab": {
          "base_uri": "https://localhost:8080/"
        },
        "id": "avUcQzhlCxoz",
        "outputId": "5553541b-5773-4617-fa80-d05be8ca33b7"
      },
      "execution_count": 24,
      "outputs": [
        {
          "output_type": "stream",
          "name": "stdout",
          "text": [
            "Comparativo desempeños:\n",
            "  RMSE train:\t 0.009\n",
            "  RMSE val:\t 0.010\n",
            "  RMSE test:\t 0.010\n"
          ]
        }
      ]
    },
    {
      "cell_type": "code",
      "source": [],
      "metadata": {
        "id": "HwK3Co9sC_UW"
      },
      "execution_count": 24,
      "outputs": []
    }
  ]
}